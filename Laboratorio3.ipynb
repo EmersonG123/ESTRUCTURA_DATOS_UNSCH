{
  "nbformat": 4,
  "nbformat_minor": 0,
  "metadata": {
    "colab": {
      "provenance": [],
      "authorship_tag": "ABX9TyMbdJqMez4mZwkk24vdvraq",
      "include_colab_link": true
    },
    "kernelspec": {
      "name": "python3",
      "display_name": "Python 3"
    },
    "language_info": {
      "name": "python"
    }
  },
  "cells": [
    {
      "cell_type": "markdown",
      "metadata": {
        "id": "view-in-github",
        "colab_type": "text"
      },
      "source": [
        "<a href=\"https://colab.research.google.com/github/EmersonG123/ESTRUCTURA_DATOS_UNSCH/blob/main/Laboratorio3.ipynb\" target=\"_parent\"><img src=\"https://colab.research.google.com/assets/colab-badge.svg\" alt=\"Open In Colab\"/></a>"
      ]
    },
    {
      "cell_type": "markdown",
      "source": [
        "# **ESTRUCTURA DE DATOS**\n",
        "#**LABORATORIO 3**"
      ],
      "metadata": {
        "id": "ofywB0wE3NCj"
      }
    },
    {
      "cell_type": "markdown",
      "source": [
        "programas1"
      ],
      "metadata": {
        "id": "FfpnTjCfprOk"
      }
    },
    {
      "cell_type": "code",
      "source": [
        "print(\"--------------------------------------------------\")\n",
        "print(\"vector1: LECTRURA DE ELEMENTOS ENTEROS\")\n",
        "print(\"--------------------------------------------------\")\n",
        "indice=0\n",
        "vector=[]\n",
        "print(\"Ingrese Número de elementos a ingreasar: \")\n",
        "numElementos=int(input())\n",
        "while indice <=numElementos:\n",
        "  elemento=int(input(f\" ingrese Elemento : [{indice+1}]\"))\n",
        "  vector.append(elemento)\n",
        "  indice+=1\n",
        "print(\"\\nSALIDA: \")\n",
        "print(\"--------------------------------------------------\")\n",
        "print(vector)"
      ],
      "metadata": {
        "colab": {
          "base_uri": "https://localhost:8080/"
        },
        "id": "Ho51VKZctZ45",
        "outputId": "7b1306f1-d7d5-47cd-c1bb-bbe02ecfec61"
      },
      "execution_count": null,
      "outputs": [
        {
          "output_type": "stream",
          "name": "stdout",
          "text": [
            "--------------------------------------------------\n",
            "vector1: LECTRURA DE ELEMENTOS ENTEROS\n",
            "--------------------------------------------------\n",
            "Ingrese Número de elementos a ingreasar: \n",
            "3\n",
            " ingrese Elemento : [1]3\n",
            " ingrese Elemento : [2]4\n",
            " ingrese Elemento : [3]5\n",
            " ingrese Elemento : [4]6\n",
            "\n",
            "SALIDA: \n",
            "--------------------------------------------------\n",
            "[3, 4, 5, 6]\n"
          ]
        }
      ]
    },
    {
      "cell_type": "markdown",
      "source": [
        "**programas2**"
      ],
      "metadata": {
        "id": "hYy3rmtZuf2J"
      }
    },
    {
      "cell_type": "code",
      "source": [
        "print(\"---------------------------------------------------------\")\n",
        "print(\"vector2: ORDENAR Y QUITAR ELEMENTOS REPETIDOS DEL VECTOR,\")\n",
        "print(\"---------------------------------------------------------\")\n",
        "v=[]\n",
        "print(\"ingrese número de elemento del vector \")\n",
        "N=int(input())\n",
        "if 1<=N and N<=200:\n",
        "  for i in range (1,N+1):\n",
        "    elemento=int(input(\"ingrese entero {0}: \".format(i)))\n",
        "    v.append(elemento)\n",
        "  i=0\n",
        "lista_nueva=[]\n",
        "for elemento in v:\n",
        "  if elemento not in lista_nueva:\n",
        "    lista_nueva.append(elemento)\n",
        "lista_nueva.sort()\n",
        "print(\"\\nSALIDA: \")\n",
        "print(\"--------------------------------------------------\")\n",
        "print(lista_nueva)\n"
      ],
      "metadata": {
        "colab": {
          "base_uri": "https://localhost:8080/"
        },
        "id": "rVMl6xOduj5p",
        "outputId": "c2231325-8460-4748-fb54-f2c1b91cbd9f"
      },
      "execution_count": null,
      "outputs": [
        {
          "output_type": "stream",
          "name": "stdout",
          "text": [
            "---------------------------------------------------------\n",
            "vector2: ORDENAR Y QUITAR ELEMENTOS REPETIDOS DEL VECTOR,\n",
            "---------------------------------------------------------\n",
            "ingrese número de elemento del vector \n",
            "4\n",
            "ingrese entero 1: 3\n",
            "ingrese entero 2: 4\n",
            "ingrese entero 3: 5\n",
            "ingrese entero 4: 6\n",
            "\n",
            "SALIDA: \n",
            "--------------------------------------------------\n",
            "[3, 4, 5, 6]\n"
          ]
        }
      ]
    },
    {
      "cell_type": "markdown",
      "source": [
        "Programas3"
      ],
      "metadata": {
        "id": "n8bWmCH8wutB"
      }
    },
    {
      "cell_type": "code",
      "source": [
        "print(\"--------------------------------------------------\")\n",
        "print(\"Matriz1: SUMA DE MATRICES.\")\n",
        "print(\"--------------------------------------------------\")\n",
        "A=[]\n",
        "B=[]\n",
        "C=[]\n",
        "print(\"Ingrese dimensión de la matriz,maximo 100\")\n",
        "S=int(input(\"numero de Filas: \"))\n",
        "R=int(input(\"número de columnas: \"))\n",
        "for i in range(S):\n",
        "  A.append([])\n",
        "  B.append([])\n",
        "  C.append([])\n",
        "  for j in range(R):\n",
        "    A[i].append(int(input(\"A{}{}: \".format(i+1,j+1))))\n",
        "    B[i].append(int(input(\"B{}{}: \".format(i+1,j+1))))\n",
        "    C[i].append(A[i][j]+B[i][j])\n",
        "print(\"\\nSALIDA: \")\n",
        "print(\"--------------------------------------------------------------\")\n",
        "print(A)\n",
        "print(B)\n",
        "print(C)\n",
        "\n"
      ],
      "metadata": {
        "id": "iAQnqlmqwxrB",
        "colab": {
          "base_uri": "https://localhost:8080/"
        },
        "outputId": "4677f0bc-430f-4421-da55-68c5cc5e408a"
      },
      "execution_count": null,
      "outputs": [
        {
          "output_type": "stream",
          "name": "stdout",
          "text": [
            "--------------------------------------------------\n",
            "Matriz1: SUMA DE MATRICES.\n",
            "--------------------------------------------------\n",
            "Ingrese dimensión de la matriz,maximo 100\n",
            "numero de Filas: 2\n",
            "número de columnas: 2\n",
            "A11: 2\n",
            "B11: 3\n",
            "A12: 4\n",
            "B12: 3\n",
            "A21: 3\n",
            "B21: 3\n",
            "A22: 3\n",
            "B22: 2\n",
            "\n",
            "SALIDA: \n",
            "--------------------------------------------------------------\n",
            "[[2, 4], [3, 3]]\n",
            "[[3, 3], [3, 2]]\n",
            "[[5, 7], [6, 5]]\n"
          ]
        }
      ]
    },
    {
      "cell_type": "markdown",
      "source": [
        "programa4"
      ],
      "metadata": {
        "id": "rk2q-LSNzm3Q"
      }
    },
    {
      "cell_type": "code",
      "source": [
        "import numpy as np\n",
        "arr=np.array([['Ana','Rosa','Pedro','Juan'],['Pedro','Juan','Ana','Raul'],\n",
        "              ['Edwin','Pedro','Pablo','Ana'],['Ana','Marta','Juan','Rosa']])\n",
        "def repetidas(arr):\n",
        "  n=''\n",
        "  repetidas=[]\n",
        "  for x in arr:\n",
        "    for y in x:\n",
        "      if(n.count(y)==0):\n",
        "        n=n+y+'';\n",
        "      else:\n",
        "        if(not y in repetidas):\n",
        "          repetidas.append(y)\n",
        "  return repetidas\n",
        "print(\"los nombres repetidos son: \", repetidas(arr))"
      ],
      "metadata": {
        "id": "XmxzGllyzqsA",
        "colab": {
          "base_uri": "https://localhost:8080/"
        },
        "outputId": "4e4c4aa0-c5c6-431f-cf97-24ae3bfbfac9"
      },
      "execution_count": null,
      "outputs": [
        {
          "output_type": "stream",
          "name": "stdout",
          "text": [
            "los nombres repetidos son:  ['Pedro', 'Juan', 'Ana', 'Rosa']\n"
          ]
        }
      ]
    },
    {
      "cell_type": "markdown",
      "source": [
        "Programa5"
      ],
      "metadata": {
        "id": "XU1Tt_Kw1tvj"
      }
    },
    {
      "cell_type": "code",
      "source": [
        "def crearConjunto():\n",
        "  conjunto=set()\n",
        "  cantidad=int(input(\"ingrese  cantidad de elementos: \"))\n",
        "  for i in range (cantidad):\n",
        "    elemento=int(input(f\"Elemento{i}: \"))\n",
        "    conjunto.add(elemento)\n",
        "  return conjunto\n",
        "def union(A,B):\n",
        "  return A.union(B)\n",
        "A=crearConjunto()\n",
        "B=crearConjunto()\n",
        "union(A,B)"
      ],
      "metadata": {
        "id": "-JHLZoA_1wyp",
        "colab": {
          "base_uri": "https://localhost:8080/"
        },
        "outputId": "5db07174-92c7-4474-fcc7-4c91eb88a3c0"
      },
      "execution_count": null,
      "outputs": [
        {
          "name": "stdout",
          "output_type": "stream",
          "text": [
            "ingrese  cantidad de elementos: 2\n",
            "Elemento0: 3\n",
            "Elemento1: 4\n",
            "ingrese  cantidad de elementos: 3\n",
            "Elemento0: 4\n",
            "Elemento1: 3\n",
            "Elemento2: 3\n"
          ]
        },
        {
          "output_type": "execute_result",
          "data": {
            "text/plain": [
              "{3, 4}"
            ]
          },
          "metadata": {},
          "execution_count": 9
        }
      ]
    },
    {
      "cell_type": "markdown",
      "source": [
        "programas6"
      ],
      "metadata": {
        "id": "EOweIidh9dsS"
      }
    },
    {
      "cell_type": "code",
      "source": [
        "datos={\n",
        "    \"nombre\":\"sara\",\"edad\":27,\n",
        "    \"documento\":1003882\n",
        "}\n",
        "for x,y in datos.items():\n",
        "  print(x,\":\",y)"
      ],
      "metadata": {
        "colab": {
          "base_uri": "https://localhost:8080/"
        },
        "id": "NLS5Tuct9iOa",
        "outputId": "7050e98c-0503-4075-d69b-57826b699530"
      },
      "execution_count": null,
      "outputs": [
        {
          "output_type": "stream",
          "name": "stdout",
          "text": [
            "nombre : sara\n",
            "edad : 27\n",
            "documento : 1003882\n"
          ]
        }
      ]
    },
    {
      "cell_type": "markdown",
      "source": [
        "programas7"
      ],
      "metadata": {
        "id": "BJFBCc7e9-A5"
      }
    },
    {
      "cell_type": "code",
      "source": [
        "\n",
        "def cantidadVocales(cadena):\n",
        "  vocales=0\n",
        "  for x in cadena:\n",
        "    if x in [\"A\",\"a\",\"Á\",\"á\"\n",
        "             \"E\",\"e\",\"É\",\"é\"\n",
        "             \"I\",\"i\",\"Í\",\"í\"\n",
        "             \"O\",\"o\",\"Ó\",\"ó\"\n",
        "             \"U\",\"u\",\"Ú\",\"ú\"]:\n",
        "        vocales+=1\n",
        "  return vocales\n",
        "cantidadVocales(\"Maria\")"
      ],
      "metadata": {
        "id": "O5E2MLUS-DJq",
        "colab": {
          "base_uri": "https://localhost:8080/"
        },
        "outputId": "536a5440-430e-4330-9aeb-89f8f41691e7"
      },
      "execution_count": null,
      "outputs": [
        {
          "output_type": "execute_result",
          "data": {
            "text/plain": [
              "3"
            ]
          },
          "metadata": {},
          "execution_count": 8
        }
      ]
    },
    {
      "cell_type": "markdown",
      "source": [
        "#                                            EJERCICIOS PROPUESTOS"
      ],
      "metadata": {
        "id": "CzVpl1aCBWRr"
      }
    },
    {
      "cell_type": "markdown",
      "source": [
        "**1. Implemente una función que encuentre el menor número en un vector (numpy)**"
      ],
      "metadata": {
        "id": "QDuESVlxFFey"
      }
    },
    {
      "cell_type": "code",
      "source": [
        "import numpy as np\n",
        "def crearArray():\n",
        "    cantidad=int(input(\"ingrese la cantidad de elementos que desea ingresar: \"))\n",
        "    arreglo=[]\n",
        "    for i in range(cantidad):\n",
        "        elem=int(input(\"ingrese el numero {0}: \".format(i+1)))\n",
        "        arreglo.append(elem)\n",
        "    return arreglo\n",
        "arreglo1=np.array(crearArray())\n",
        "def buscarNumMenor(arr):\n",
        "   menor=arr[0]\n",
        "   for indice in range(1,len(arr)):\n",
        "     if arr[indice]<menor:\n",
        "       menor=arr[indice]\n",
        "   return menor\n",
        "print(f\"el numero menor del arreglo es el elemento:{buscarNumMenor(arreglo1)} \")\n"
      ],
      "metadata": {
        "id": "-YkVhpzXBtv5",
        "colab": {
          "base_uri": "https://localhost:8080/"
        },
        "outputId": "56a873b3-b791-4c73-cb5c-f0aee3eb904a"
      },
      "execution_count": null,
      "outputs": [
        {
          "output_type": "stream",
          "name": "stdout",
          "text": [
            "ingrese la cantidad de elementos que desea ingresar: 5\n",
            "ingrese el numero 1: 67\n",
            "ingrese el numero 2: 89\n",
            "ingrese el numero 3: -6\n",
            "ingrese el numero 4: 8\n",
            "ingrese el numero 5: 9\n",
            "el numero menor del arreglo es el elemento:-6 \n"
          ]
        }
      ]
    },
    {
      "cell_type": "markdown",
      "source": [
        "2. Implemente una función que encuentre el mayor número en un vector (numpy)"
      ],
      "metadata": {
        "id": "BZOLTT9Oqxl0"
      }
    },
    {
      "cell_type": "code",
      "source": [
        "import numpy as np\n",
        "def crearArray():\n",
        "    cantidad=int(input(\"ingrese la cantidad de elementos que desea ingresar: \"))\n",
        "    arreglo=[]\n",
        "    for i in range(cantidad):\n",
        "        elem=int(input(f\"ingrese el numero {i+1}: \"))\n",
        "        arreglo.append(elem)\n",
        "    return arreglo\n",
        "arreglo2=np.array(crearArray())\n",
        "def busMayorElemento(arreglo):\n",
        "  mayor=arreglo[0]\n",
        "  for indice in range(1,len(arreglo)):\n",
        "    if arreglo[indice]>mayor:\n",
        "      mayor=arreglo[indice]\n",
        "  return mayor\n",
        "print(\"el mayor numero del arreglo es:{0} \".format(busMayorElemento(arreglo2)))\n",
        "\n"
      ],
      "metadata": {
        "colab": {
          "base_uri": "https://localhost:8080/"
        },
        "id": "mVrDCqmTq7Ns",
        "outputId": "14b6b72b-cda0-4e6d-ccf6-5e1f6b1db92c"
      },
      "execution_count": null,
      "outputs": [
        {
          "output_type": "stream",
          "name": "stdout",
          "text": [
            "ingrese la cantidad de elementos que desea ingresar: 5\n",
            "ingrese el numero 1: 67\n",
            "ingrese el numero 2: 45\n",
            "ingrese el numero 3: -5\n",
            "ingrese el numero 4: 9\n",
            "ingrese el numero 5: 98\n",
            "el mayor numero del arreglo es:98 \n"
          ]
        }
      ]
    },
    {
      "cell_type": "markdown",
      "source": [
        "3. Implemente una función que encuentre el menor número en una matriz (numpy)"
      ],
      "metadata": {
        "id": "Q396rHNFwqxQ"
      }
    },
    {
      "cell_type": "code",
      "source": [
        "import numpy as np\n",
        "def crearMatriz():\n",
        "  fila=int(input(\"ingrese tamaño de fila:\"))\n",
        "  columna=int(input(\"ingrese tamaño de columna:\"))\n",
        "  matriz=np.empty([fila,columna],dtype=int)\n",
        "  for i in range(fila):\n",
        "    for j in range(columna):\n",
        "      elemento=input(f\"posicion [{i+1}:{j+1}] --> \")\n",
        "      matriz[i,j]=elemento\n",
        "  return matriz\n",
        "matriz=crearMatriz()\n",
        "def elemMenorMatriz(matriz):\n",
        "    menor=matriz[0][0]\n",
        "    for i in range(1,len(matriz)):\n",
        "        for j in range(len(matriz[i])):\n",
        "            if matriz[i][j]<menor:\n",
        "                menor=matriz[i][j]\n",
        "    return menor\n",
        "print(\"el numero menor de la matriz es  :\",elemMenorMatriz(matriz))"
      ],
      "metadata": {
        "id": "QfweLNh9wsQM",
        "colab": {
          "base_uri": "https://localhost:8080/"
        },
        "outputId": "1174c7f5-2c27-4a03-b596-6d3d4b641d94"
      },
      "execution_count": null,
      "outputs": [
        {
          "output_type": "stream",
          "name": "stdout",
          "text": [
            "ingrese tamaño de fila:2\n",
            "ingrese tamaño de columna:3\n",
            "posicion [1:1] --> 45\n",
            "posicion [1:2] --> -4\n",
            "posicion [1:3] --> 56\n",
            "posicion [2:1] --> 7\n",
            "posicion [2:2] --> -8\n",
            "posicion [2:3] --> 3\n",
            "el numero menor de la matriz es  : -8\n"
          ]
        }
      ]
    },
    {
      "cell_type": "markdown",
      "source": [
        "**4. Implemente una función que encuentre el mayor número en una matriz (numpy)**"
      ],
      "metadata": {
        "id": "T3k6nPOpsRQS"
      }
    },
    {
      "cell_type": "code",
      "source": [
        "import numpy as np\n",
        "def crearMatriz():\n",
        "  fila=int(input(\"ingrese tamaño de fila:\"))\n",
        "  columna=int(input(\"ingrese tamaño de columna:\"))\n",
        "  matriz=np.empty([fila,columna],dtype=int)\n",
        "  for i in range(fila):\n",
        "    for j in range(columna):\n",
        "      elemento=input(f\"posicion [{i+1}:{j+1}] --> \")\n",
        "      matriz[i,j]=elemento\n",
        "  return matriz\n",
        "matriz1=crearMatriz()# creando una matriz\n",
        "def elemMayorMatriz(matriz):\n",
        "    mayor=matriz[0][0]\n",
        "    for i in range(1,len(matriz)):\n",
        "        for j in range(len(matriz[i])):\n",
        "            if matriz[i][j]>mayor:\n",
        "                mayor=matriz[i][j]\n",
        "    return mayor\n",
        "print(\"el numero mayor  de la matriz es :\",elemMayorMatriz(matriz1))"
      ],
      "metadata": {
        "colab": {
          "base_uri": "https://localhost:8080/"
        },
        "id": "MksKX3LCsgpg",
        "outputId": "fc856e93-3b6a-4108-e5d4-9024b1c88f98"
      },
      "execution_count": null,
      "outputs": [
        {
          "output_type": "stream",
          "name": "stdout",
          "text": [
            "ingrese tamaño de fila:3\n",
            "ingrese tamaño de columna:2\n",
            "posicion [1:1] --> 4\n",
            "posicion [1:2] --> 7\n",
            "posicion [2:1] --> 98\n",
            "posicion [2:2] --> 3\n",
            "posicion [3:1] --> -6\n",
            "posicion [3:2] --> 7\n",
            "el numero mayor  de la matriz es : 98\n"
          ]
        }
      ]
    },
    {
      "cell_type": "markdown",
      "source": [
        "5. Implementar funciones para cada uno de los requerimientos, se tiene que trabajar con la siguiente matriz de cadenas.\n",
        "              [['Ana','Rosa','Pedro','Juan'],\n",
        "              ['Pedro','Juan','Ana','Raul'],\n",
        "              ['Edwin','Pedro','Pablo','Ana'],\n",
        "              ['Ana','Marta','Juan','Rosa']]"
      ],
      "metadata": {
        "id": "fkPfpePRtV8o"
      }
    },
    {
      "cell_type": "markdown",
      "source": [
        "a) Mediante una función que acepta como argumento la matriz, debe de revolver un array de los nombres que se repiten en la matriz."
      ],
      "metadata": {
        "id": "pRicNCweuKRZ"
      }
    },
    {
      "cell_type": "code",
      "source": [
        "import numpy as np\n",
        "array=np.array([['Ana','Rosa','Pedro','Juan'],\n",
        "              ['Pedro','Juan','Ana','Raul'],\n",
        "              ['Edwin','Pedro','Pablo','Ana'],\n",
        "              ['Ana','Marta','Juan','Rosa']])\n",
        "def nombresRepitentes(matriz):\n",
        "    repetidos=[]\n",
        "    norepetidos=[]\n",
        "    for i in matriz:\n",
        "        for j in i:\n",
        "            if j not in norepetidos:\n",
        "                norepetidos.append(j)\n",
        "            else:\n",
        "                if not j in repetidos:\n",
        "                    repetidos.append(j)\n",
        "    return repetidos\n",
        "print(\"los nombres  repetidos  son : \",nombresRepitentes(array))"
      ],
      "metadata": {
        "colab": {
          "base_uri": "https://localhost:8080/"
        },
        "id": "XDRK-RtyuYDe",
        "outputId": "5b74aabb-b33b-4d36-afc1-f8ca448fcc80"
      },
      "execution_count": null,
      "outputs": [
        {
          "output_type": "stream",
          "name": "stdout",
          "text": [
            "los nombres  repetidos  son :  ['Pedro', 'Juan', 'Ana', 'Rosa']\n"
          ]
        }
      ]
    },
    {
      "cell_type": "markdown",
      "source": [
        "b) Mediante una función que acepte la matriz, debe de almacenar en un array la cantidad de veces que se repite los nombres en la matriz."
      ],
      "metadata": {
        "id": "clHo1clvuv86"
      }
    },
    {
      "cell_type": "code",
      "source": [
        "import numpy as np\n",
        "array=np.array([['Ana','Rosa','Pedro','Juan'],\n",
        "              ['Pedro','Juan','Ana','Raul'],\n",
        "              ['Edwin','Pedro','Pablo','Ana'],\n",
        "              ['Ana','Marta','Juan','Rosa']])\n",
        "def nombresNoRepitentes(matriz):\n",
        "    ana=0\n",
        "    pedro=0\n",
        "    rosa=0\n",
        "    juan=0\n",
        "    norepetidos=[]\n",
        "    for i in matriz:\n",
        "        for j in i:\n",
        "            if  not j  in norepetidos:\n",
        "                norepetidos.append(j)\n",
        "            else:\n",
        "                if j==\"Ana\":\n",
        "                    ana+=1\n",
        "                elif j==\"Pedro\":\n",
        "                    pedro+=1\n",
        "                elif j==\"Rosa\":\n",
        "                    rosa+=1\n",
        "                else:\n",
        "                    juan+=1\n",
        "    cantidad=[]\n",
        "    cantidad.append(ana)\n",
        "    cantidad.append(pedro)\n",
        "    cantidad.append(rosa)\n",
        "    cantidad.append(juan)\n",
        "    return cantidad\n",
        "lista= nombresNoRepitentes(array)\n",
        "print(\"Ana se repite  : {0} veses \\nPedro se repite: {1} veses\"\n",
        "   \"\\nRosa se repite : {2} veses \\n\\ty Juan : {3} veses\".format(lista[0], lista[1], lista[2], lista[3]))"
      ],
      "metadata": {
        "colab": {
          "base_uri": "https://localhost:8080/"
        },
        "id": "rHGS2sJZu1YT",
        "outputId": "297ca2f0-6507-41e6-a2e9-f1ead206ee7c"
      },
      "execution_count": null,
      "outputs": [
        {
          "output_type": "stream",
          "name": "stdout",
          "text": [
            "Ana se repite  : 3 veses \n",
            "Pedro se repite: 2 veses\n",
            "Rosa se repite : 1 veses \n",
            "\ty Juan : 2 veses\n"
          ]
        }
      ]
    },
    {
      "cell_type": "markdown",
      "source": [
        "c) Mediante una función que tiene como parámetro de entrada la matriz, debe de almacenar en una array los nombres que no se repiten y luego devolver el array con dichos contenidos."
      ],
      "metadata": {
        "id": "HCjsSxAIwSp1"
      }
    },
    {
      "cell_type": "code",
      "source": [
        "import numpy as np\n",
        "matriz=np.array([['Ana','Rosa','Pedro','Juan'],\n",
        "              ['Pedro','Juan','Ana','Raul'],\n",
        "              ['Edwin','Pedro','Pablo','Ana'],\n",
        "              ['Ana','Marta','Juan','Rosa']])\n",
        "def nombresNoRepitentes(matriz):\n",
        "    repetidos=[]\n",
        "    norepetidos=[]\n",
        "    for i in matriz:\n",
        "        for j in i:\n",
        "            if  not j  in norepetidos:\n",
        "                norepetidos.append(j)\n",
        "            else:\n",
        "                if not j in repetidos:\n",
        "                    repetidos.append(j)\n",
        "    elem_unicos=[]\n",
        "    for x in norepetidos:\n",
        "        if  x not in repetidos:\n",
        "            elem_unicos.append(x)\n",
        "    return elem_unicos\n",
        "print(\"los nombres  no repetidos son: \",nombresNoRepitentes(matriz))\n"
      ],
      "metadata": {
        "colab": {
          "base_uri": "https://localhost:8080/"
        },
        "id": "GJTBQbO3wa4i",
        "outputId": "6b26c2aa-c40c-42ed-f647-3210c4e6dd8e"
      },
      "execution_count": null,
      "outputs": [
        {
          "output_type": "stream",
          "name": "stdout",
          "text": [
            "los nombres  no repetidos son:  ['Raul', 'Edwin', 'Pablo', 'Marta']\n"
          ]
        }
      ]
    },
    {
      "cell_type": "markdown",
      "source": [
        "d) Mediante una función que tienen como parámetro de entrada la matriz, debe de almacenar en una array lo nombres que están en la diagonal de matriz y luego retornarlo."
      ],
      "metadata": {
        "id": "nGAo0GNpw4HG"
      }
    },
    {
      "cell_type": "code",
      "source": [
        "import numpy as np\n",
        "matriz=np.array([['Ana','Rosa','Pedro','Juan'],\n",
        "              ['Pedro','Juan','Ana','Raul'],\n",
        "              ['Edwin','Pedro','Pablo','Ana'],\n",
        "              ['Ana','Marta','Juan','Rosa']])\n",
        "def elementosDiagonal(matriz):\n",
        "    nombresDiagonal=[]\n",
        "    for i in range(len(matriz)):\n",
        "        for j in range(len(matriz[i])):\n",
        "            if( i==j):\n",
        "                nombresDiagonal.append(matriz[i][j])\n",
        "    return nombresDiagonal\n",
        "print (\"los nombres de la diagonal principal son :\",elementosDiagonal(matriz))"
      ],
      "metadata": {
        "colab": {
          "base_uri": "https://localhost:8080/"
        },
        "id": "bzGY4OTlxAxN",
        "outputId": "375979f4-afcf-417e-f76b-e9e70450c3e7"
      },
      "execution_count": null,
      "outputs": [
        {
          "output_type": "stream",
          "name": "stdout",
          "text": [
            "los nombres de la diagonal principal son : ['Ana', 'Juan', 'Pablo', 'Rosa']\n"
          ]
        }
      ]
    }
  ]
}