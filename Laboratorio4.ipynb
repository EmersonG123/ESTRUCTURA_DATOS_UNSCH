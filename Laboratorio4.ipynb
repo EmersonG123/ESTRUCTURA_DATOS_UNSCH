{
  "nbformat": 4,
  "nbformat_minor": 0,
  "metadata": {
    "colab": {
      "provenance": [],
      "authorship_tag": "ABX9TyMpL1SU7CUuNV1Ei8Cg2lB1",
      "include_colab_link": true
    },
    "kernelspec": {
      "name": "python3",
      "display_name": "Python 3"
    },
    "language_info": {
      "name": "python"
    }
  },
  "cells": [
    {
      "cell_type": "markdown",
      "metadata": {
        "id": "view-in-github",
        "colab_type": "text"
      },
      "source": [
        "<a href=\"https://colab.research.google.com/github/EmersonG123/ESTRUCTURA_DATOS_UNSCH/blob/main/Laboratorio4.ipynb\" target=\"_parent\"><img src=\"https://colab.research.google.com/assets/colab-badge.svg\" alt=\"Open In Colab\"/></a>"
      ]
    },
    {
      "cell_type": "markdown",
      "source": [
        "# **ESTRUCTURA DE DATOS**\n",
        "#**LABORATORIO 4**"
      ],
      "metadata": {
        "id": "4YCbvolp3uU5"
      }
    },
    {
      "cell_type": "markdown",
      "source": [
        "# **1. listas Simples**"
      ],
      "metadata": {
        "id": "mjqK6mPIu4Cg"
      }
    },
    {
      "cell_type": "code",
      "source": [
        "class Nodo:\n",
        "  def __init__(self,dato):\n",
        "    self.dato=dato\n",
        "    self.siguiente=None\n",
        "  #devuelve valor del campo\n",
        "  def get_dato(self):\n",
        "    return  self.dato\n",
        "  #modifica valor de campo\n",
        "  def get_siguiente(self):\n",
        "    return self.siguiente\n",
        "  def set_dato(self,nuevodato):\n",
        "    self.dato=nuevodato\n",
        "  def set_siguiente(self,nuevosiguiente):\n",
        "    self.siguiente=nuevosiguiente\n",
        "#Implementación de la lista y sus operaciones\n",
        "class ListaSimple:\n",
        "  def __init__(self):\n",
        "    self.primero=None\n",
        "  # MÉTODO: verificar si esta vacia\n",
        "  def estaVacia(self):\n",
        "    return self.primero==None\n",
        "  # MÉTODO: agregar elemento a la lista\n",
        "  def agregarPrincipio(self,dato):\n",
        "    nuevoNodo=Nodo(dato)\n",
        "    nuevoNodo.set_siguiente(self.primero)\n",
        "    self.primero=nuevoNodo\n",
        "  #metodo de iteracion\n",
        "  def iterar(self):\n",
        "    actual=self.primero\n",
        "    while actual:\n",
        "      dato=actual.dato\n",
        "      actual=actual.siguiente\n",
        "      yield dato\n",
        "  def agregarFinal(self,dato):\n",
        "    nuevoNodo = Nodo(dato)\n",
        "    aux = self.primero\n",
        "    while aux.siguiente:\n",
        "      aux = aux.siguiente\n",
        "    aux.siguiente = nuevoNodo\n",
        "  def removerPrimero(self):\n",
        "    aux=self.primero\n",
        "    self.primero=aux.siguiente\n",
        "    aux.set_siguiente(None)\n",
        "  def removerFinal(self):\n",
        "    aux1=None\n",
        "    aux=self.primero\n",
        "    while aux.siguiente!=None:\n",
        "      aux1=aux\n",
        "      aux=aux.siguiente\n",
        "    aux1.set_siguiente(None)\n",
        "  def removerBuscado(self,nodobuscado):\n",
        "    aux1=None\n",
        "    aux=self.primero\n",
        "    while aux.dato!=nodobuscado and aux.siguiente!=None:\n",
        "      aux1=aux\n",
        "      aux=aux.siguiente\n",
        "    if aux==self.primero:\n",
        "      self.primero=aux.siguiente\n",
        "    else:\n",
        "      aux1.set_siguiente(aux.get_siguiente())\n",
        "    aux.set_siguiente(None)\n",
        "  def buscar(self,datoB):\n",
        "    aux=self.primero\n",
        "    encontrado=False\n",
        "    while aux!=None and not encontrado:\n",
        "       if aux.dato==datoB:\n",
        "         encontrado=True\n",
        "       else:\n",
        "         aux=aux.siguiente\n",
        "    return encontrado\n",
        "  def busqueda2(self,dato):\n",
        "    aux=self.primero\n",
        "    encontrado=False\n",
        "    while aux!=None and aux.siguiente!=None:\n",
        "      if aux.get_Dato()== dato:\n",
        "        encontrado = True\n",
        "      else:\n",
        "        aux = aux.siguiente\n",
        "        print(\"Dato no encontrado\")\n",
        "    return encontrado\n",
        "  # Agregar un elemento antes y despues  de un Nodo establecido\n",
        "  # a) antes del Nodo\n",
        "  def agregarAntes(self,dato,elemento):\n",
        "        if  self.primero.dato==elemento:\n",
        "          self.agregarPrincipio(dato)# se hase uso de un método ya antes creado\n",
        "        else:\n",
        "          aux1=None\n",
        "          aux=self.primero\n",
        "          while aux.dato!=elemento and aux.siguiente  !=  None:\n",
        "              aux1=aux\n",
        "              aux=aux.siguiente\n",
        "          nuevoNodo=Nodo(dato)\n",
        "          nuevoNodo.set_siguiente(aux)\n",
        "          aux1.set_siguiente(nuevoNodo)\n",
        "  #b) Despues del Nodo\n",
        "  def agregarDespues(self,dato,elemento):\n",
        "    aux1=self.primero.siguiente\n",
        "    aux=self.primero\n",
        "    while aux.dato!=elemento and aux.siguiente!=None:\n",
        "      aux=aux.siguiente\n",
        "      aux1=aux1.siguiente\n",
        "    nuevoNodo=Nodo(dato)\n",
        "    nuevoNodo.set_siguiente(aux1)\n",
        "    aux.set_siguiente(nuevoNodo)\n",
        "\n",
        "miLista=ListaSimple()\n",
        "miLista.agregarPrincipio(\"A\")\n",
        "miLista.agregarPrincipio(\"B\")\n",
        "miLista.agregarPrincipio(\"C\")\n",
        "miLista.agregarPrincipio(\"D\")\n",
        "miLista.agregarDespues(\"despues\",\"D\")\n",
        "miLista.agregarAntes(\"antes\",\"D\")\n",
        "print(miLista.buscar(\"D\"))\n",
        "for d in miLista.iterar():\n",
        "  print(d)"
      ],
      "metadata": {
        "colab": {
          "base_uri": "https://localhost:8080/"
        },
        "id": "npizAlqwu6Rd",
        "outputId": "7978a99e-81bd-47ff-c439-eb692b2d0673"
      },
      "execution_count": null,
      "outputs": [
        {
          "output_type": "stream",
          "name": "stdout",
          "text": [
            "True\n",
            "antes\n",
            "D\n",
            "despues\n",
            "C\n",
            "B\n",
            "A\n"
          ]
        }
      ]
    }
  ]
}