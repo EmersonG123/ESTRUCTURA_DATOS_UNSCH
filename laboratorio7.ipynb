{
  "nbformat": 4,
  "nbformat_minor": 0,
  "metadata": {
    "colab": {
      "provenance": [],
      "authorship_tag": "ABX9TyPIBdFkOccQ7XJhZfxLAYbR",
      "include_colab_link": true
    },
    "kernelspec": {
      "name": "python3",
      "display_name": "Python 3"
    },
    "language_info": {
      "name": "python"
    }
  },
  "cells": [
    {
      "cell_type": "markdown",
      "metadata": {
        "id": "view-in-github",
        "colab_type": "text"
      },
      "source": [
        "<a href=\"https://colab.research.google.com/github/EmersonG123/ESTRUCTURA_DATOS_UNSCH/blob/main/laboratorio7.ipynb\" target=\"_parent\"><img src=\"https://colab.research.google.com/assets/colab-badge.svg\" alt=\"Open In Colab\"/></a>"
      ]
    },
    {
      "cell_type": "markdown",
      "source": [
        "# **ESTRUCTURA DE DATOS**\n",
        "#**LABORATORIO 7**\n",
        "⚓"
      ],
      "metadata": {
        "id": "-oZzn81x7xJG"
      }
    },
    {
      "cell_type": "markdown",
      "source": [
        "\n",
        "\n",
        "> ## **1.   COLA**\n"
      ],
      "metadata": {
        "id": "muS3TasJ7mb4"
      }
    },
    {
      "cell_type": "markdown",
      "source": [
        "IMPLEMENTACION DE ESTRUCTURAS **COLAS**"
      ],
      "metadata": {
        "id": "MJMrzw3n6vtY"
      }
    },
    {
      "cell_type": "code",
      "source": [
        "#clase nodo\n",
        "class Nodo:\n",
        "  def __init__(self,dato):\n",
        "    self.dato=dato\n",
        "    self.enlace=None\n",
        "  #devuelve valor del campo\n",
        "  def get_dato(self):\n",
        "    return  self.dato\n",
        "  #modifica valor de campo\n",
        "  def get_enlace(self):\n",
        "    return self.enlace\n",
        "  def set_dato(self,dato1):\n",
        "    self.dato=dato1\n",
        "  def set_enlace(self,nuevosenlace):\n",
        "    self.enlace=nuevosenlace\n",
        "#clase cola\n",
        "class Cola():\n",
        "  def __init__(self):\n",
        "    self.cabeza=None\n",
        "    self.cola=None\n",
        "  #método  Agrega nodos a nuestra Cola\n",
        "  def enColar(self,dato):\n",
        "    nuevoNodo=Nodo(dato)\n",
        "    if self.cola!=None:\n",
        "      self.cola.set_enlace(nuevoNodo)\n",
        "    else :\n",
        "      self.cabeza=nuevoNodo\n",
        "    self.cola=nuevoNodo\n",
        "  #muestra los datos de los nodos  de la cola en pantalla\n",
        "  def imprimirCola(self):\n",
        "    if self.cabeza==None:\n",
        "        print(\"\\t!no hay elementos en la cola!\")\n",
        "    else:\n",
        "        i=1\n",
        "        aux=self.cabeza\n",
        "        while aux!=None:\n",
        "            print(\"\\t\",i,\") --> \",aux.dato)\n",
        "            aux=aux.enlace\n",
        "            i+=1\n",
        "  #retorna el estado de la cola False si no tiene elementos y True si los tiene\n",
        "  def estadoDeCola(self):\n",
        "    return self.cabeza!=None\n",
        "  #Método desenEncolar retorna si la cola esta vacia\n",
        "  def colaVacia(self):\n",
        "    return self.cabeza==None\n",
        "  # elimina nodos por la referncia Cabeza de la cola\n",
        "  def desenEncolar(self):\n",
        "    if self.colaVacia() is True:\n",
        "      print( \"!la cola esta vacia!\")\n",
        "    elif self.cabeza.enlace==None:\n",
        "      self.cabeza=None\n",
        "      self.cola=None\n",
        "    else:\n",
        "      aux=self.cabeza\n",
        "      self.cabeza=aux.enlace\n",
        "      aux.enlace=None\n",
        "  # Método: retorna el dato que apunta la refercia Cabeza\n",
        "  def datoCabeza(self):\n",
        "    if self.colaVacia() is True:\n",
        "        return \"no hay elementos en la cola\"\n",
        "    else:\n",
        "        return self.cabeza.dato\n",
        "  #Método: retorna el dato que apunta la refercia cola\n",
        "  def datoCola(self):\n",
        "    if self.colaVacia() is True:\n",
        "        return \"no hay elementos en la cola\"\n",
        "    else:\n",
        "        return self.cola.dato\n",
        "  def tamanhoCola(self):\n",
        "    long=0\n",
        "    aux=self.cabeza\n",
        "    while aux!=None:\n",
        "        long+=1\n",
        "        aux=aux.enlace\n",
        "    return long\n",
        "  #busqueda\n",
        "  def busqueda(self, datoBuscado):\n",
        "      aux=self.cabeza\n",
        "      encontrado=False\n",
        "      while aux!=None and not encontrado:\n",
        "        if aux.dato==datoBuscado :\n",
        "          encontrado=True\n",
        "        else:\n",
        "          aux=aux.enlace\n",
        "      return encontrado\n",
        "  #Método que elimina todo los nodos de la cola\n",
        "  def limpiarCola(self):\n",
        "    self.cabeza=None\n",
        "class Main():\n",
        "  cola1=Cola()\n",
        "  print(\"1) ver estado y si la cola esta vacia\")\n",
        "  print(\"\\ta) estado de cola: \",cola1.estadoDeCola())\n",
        "  print(\"\\tb) la cola esta vacia: \",cola1.colaVacia())\n",
        "  print(\"2: implementacion de segunda cola\")\n",
        "  cola1.enColar(\"hola\")\n",
        "  cola1.enColar(\"mundo\")\n",
        "  cola1.enColar(\"cesar\")\n",
        "  cola1.enColar(\"juan\")\n",
        "  cola1.enColar(\"UNSCH\")\n",
        "  cola1.imprimirCola()\n",
        "  cola1.desenEncolar()\n",
        "  cola1.desenEncolar()\n",
        "  cola1.desenEncolar()\n",
        "  cola1.imprimirCola()\n",
        "  print(\"despues  de desencolar 3 veses\")\n",
        "  cola1.imprimirCola()\n",
        "  print(\"despues  de desencolar 1 veses mas\")\n",
        "  cola1.desenEncolar()\n",
        "  cola1.imprimirCola()\n",
        "  print(\"desencolar ultimo nodo\")\n",
        "  cola1.desenEncolar()\n",
        "  cola1.desenEncolar()\n",
        "  print(\"\\nProbando nuevos métodos implementados\")\n",
        "  cola2=Cola()\n",
        "  print(\" se muestra la cola implentada\")\n",
        "  cola2.enColar(3)\n",
        "  cola2.enColar(36)\n",
        "  cola2.enColar(73)\n",
        "  cola2.enColar(38)\n",
        "  cola2.enColar(63)\n",
        "  cola2.imprimirCola()\n",
        "  print(\" a) se muestra el dato de la cabeza\")\n",
        "  print(\" \\t Dato del nodo cabeza: \",cola2.datoCabeza())\n",
        "  print(\" \\n b) se muestra el dato de la cola\")\n",
        "  print(\"   \\t Dato del nodo cola: \",cola2.datoCola())\n",
        "  print(\" \\n c) tamanio de la cola >>> \",cola2.tamanhoCola())\n",
        "  print(\"\\n d) dato buscado: \",cola2.busqueda(63))\n",
        "  print(\"\\n e) limpiar cola\")\n",
        "  cola2.limpiarCola()\n",
        "  cola2.imprimirCola()\n",
        "\n",
        "\n",
        "\n",
        "\n"
      ],
      "metadata": {
        "id": "HR7FDR6P6zzn",
        "colab": {
          "base_uri": "https://localhost:8080/"
        },
        "outputId": "6de3b78f-fe3d-475a-c8c6-557ccdc5e791"
      },
      "execution_count": null,
      "outputs": [
        {
          "output_type": "stream",
          "name": "stdout",
          "text": [
            "1) ver estado y si la cola esta vacia\n",
            "\ta) estado de cola:  False\n",
            "\tb) la cola esta vacia:  True\n",
            "2: implementacion de segunda cola\n",
            "\t 1 ) -->  hola\n",
            "\t 2 ) -->  mundo\n",
            "\t 3 ) -->  cesar\n",
            "\t 4 ) -->  juan\n",
            "\t 5 ) -->  UNSCH\n",
            "\t 1 ) -->  juan\n",
            "\t 2 ) -->  UNSCH\n",
            "despues  de desencolar 3 veses\n",
            "\t 1 ) -->  juan\n",
            "\t 2 ) -->  UNSCH\n",
            "despues  de desencolar 1 veses mas\n",
            "\t 1 ) -->  UNSCH\n",
            "desencolar ultimo nodo\n",
            "!la cola esta vacia!\n",
            "\n",
            "Probando nuevos métodos implementados\n",
            " se muestra la cola implentada\n",
            "\t 1 ) -->  3\n",
            "\t 2 ) -->  36\n",
            "\t 3 ) -->  73\n",
            "\t 4 ) -->  38\n",
            "\t 5 ) -->  63\n",
            " a) se muestra el dato de la cabeza\n",
            " \t Dato del nodo cabeza:  3\n",
            " \n",
            " b) se muestra el dato de la cola\n",
            "   \t Dato del nodo cola:  63\n",
            " \n",
            " c) tamanio de la cola >>>  5\n",
            "\n",
            " d) dato buscado:  True\n",
            "\n",
            " e) limpiar cola\n",
            "\t!no hay elementos en la cola!\n"
          ]
        }
      ]
    }
  ]
}