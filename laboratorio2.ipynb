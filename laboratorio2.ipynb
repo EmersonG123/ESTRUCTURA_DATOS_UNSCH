{
  "nbformat": 4,
  "nbformat_minor": 0,
  "metadata": {
    "colab": {
      "provenance": [],
      "toc_visible": true,
      "authorship_tag": "ABX9TyMglbfplTn+m7+QvKZFKJdT",
      "include_colab_link": true
    },
    "kernelspec": {
      "name": "python3",
      "display_name": "Python 3"
    },
    "language_info": {
      "name": "python"
    }
  },
  "cells": [
    {
      "cell_type": "markdown",
      "metadata": {
        "id": "view-in-github",
        "colab_type": "text"
      },
      "source": [
        "<a href=\"https://colab.research.google.com/github/EmersonG123/ESTRUCTURA_DATOS_UNSCH/blob/main/laboratorio2.ipynb\" target=\"_parent\"><img src=\"https://colab.research.google.com/assets/colab-badge.svg\" alt=\"Open In Colab\"/></a>"
      ]
    },
    {
      "cell_type": "markdown",
      "source": [
        "# **ESTRUCTURA DE DATOS**\n",
        "#**LABORATORIO 1**"
      ],
      "metadata": {
        "id": "My816FVVzHZa"
      }
    },
    {
      "cell_type": "markdown",
      "source": [
        "**1.   Factorial recursivo**"
      ],
      "metadata": {
        "id": "jGF1rDlUtAdw"
      }
    },
    {
      "cell_type": "markdown",
      "source": [
        "Fibonacci Recursivo(1)"
      ],
      "metadata": {
        "id": "R0h-d3KAwVtq"
      }
    },
    {
      "cell_type": "code",
      "source": [
        "def fibonacci_recursivo(numero):# la funcion es valido para numeros mayorese iguales a 1\n",
        "  if numero<=1:  #-----> se cambia de operador de comparacion y ahora se evalua a numeros menore y igual a 1\n",
        "    return 0\n",
        "  if numero==2 or numero==3:\n",
        "      return 1\n",
        "  return fibonacci_recursivo(numero-1)+fibonacci_recursivo(numero-2)\n",
        "fibonacci_recursivo(-3)"
      ],
      "metadata": {
        "colab": {
          "base_uri": "https://localhost:8080/"
        },
        "id": "21T_XtDQwcG6",
        "outputId": "6da8b244-6f82-40a0-d1b5-94a1674adcf1"
      },
      "execution_count": null,
      "outputs": [
        {
          "output_type": "execute_result",
          "data": {
            "text/plain": [
              "0"
            ]
          },
          "metadata": {},
          "execution_count": 25
        }
      ]
    },
    {
      "cell_type": "markdown",
      "source": [
        "Fibonacci Recursivo con  memorizacion"
      ],
      "metadata": {
        "id": "eQIEcEkXr89y"
      }
    },
    {
      "cell_type": "code",
      "source": [
        "memoria={1:0,2:1,3:1}          # es una estructura de datos llamado 'diccionario' .\n",
        "def fibonacci_memo(numero):   #que tiene una [clave : valor] y que puede almacenar otras estructuras\n",
        "  if numero>=1:\n",
        "    if numero in memoria :\n",
        "      return memoria[numero]\n",
        "    memoria[numero]=fibonacci_memo(numero-1)+fibonacci_memo(numero-2)\n",
        "    return memoria[numero]\n",
        "  else:\n",
        "     return 0\n",
        "fibonacci_memo(-33)"
      ],
      "metadata": {
        "colab": {
          "base_uri": "https://localhost:8080/"
        },
        "id": "hPFSZleXlfTZ",
        "outputId": "7f072197-22a8-49c4-8236-8404b19e316a"
      },
      "execution_count": null,
      "outputs": [
        {
          "output_type": "execute_result",
          "data": {
            "text/plain": [
              "0"
            ]
          },
          "metadata": {},
          "execution_count": 157
        }
      ]
    },
    {
      "cell_type": "markdown",
      "source": [
        "Suma armonica"
      ],
      "metadata": {
        "id": "BUAmfVAe02uc"
      }
    },
    {
      "cell_type": "code",
      "source": [
        "def sumaArmonica(n):\n",
        "  if n==1:\n",
        "     rest= 1\n",
        "  else:\n",
        "    if n>1:\n",
        "      rest=(1/n)+sumaArmonica(n-1)\n",
        "  return rest\n",
        "sumaArmonica(4)"
      ],
      "metadata": {
        "colab": {
          "base_uri": "https://localhost:8080/"
        },
        "id": "ye2yfY5Q05lA",
        "outputId": "b0e0846e-a14d-4d13-ecb6-cda6667b38ed"
      },
      "execution_count": null,
      "outputs": [
        {
          "output_type": "execute_result",
          "data": {
            "text/plain": [
              "2.083333333333333"
            ]
          },
          "metadata": {},
          "execution_count": 185
        }
      ]
    },
    {
      "cell_type": "markdown",
      "source": [
        "Suma"
      ],
      "metadata": {
        "id": "9ORZaZF22Cup"
      }
    },
    {
      "cell_type": "markdown",
      "source": [
        "**multiplicacion de dos numeros**"
      ],
      "metadata": {
        "id": "ptQzuIkU2-Es"
      }
    },
    {
      "cell_type": "code",
      "source": [
        "def multiplicacion(n,m):\n",
        "  if  m==0:\n",
        "    rest= 0\n",
        "  else:\n",
        "      if m>0:\n",
        "        rest=n+multiplicacion(n,m-1)\n",
        "  return rest\n",
        "print(multiplicacion(4,12))"
      ],
      "metadata": {
        "colab": {
          "base_uri": "https://localhost:8080/"
        },
        "id": "N79ErwFm3KI7",
        "outputId": "74b5bd59-999b-4ca2-fa8f-0bea3836da97"
      },
      "execution_count": null,
      "outputs": [
        {
          "output_type": "stream",
          "name": "stdout",
          "text": [
            "48\n"
          ]
        }
      ]
    },
    {
      "cell_type": "markdown",
      "source": [
        "suma"
      ],
      "metadata": {
        "id": "USABqDgcwfX7"
      }
    },
    {
      "cell_type": "code",
      "source": [
        "def suma(n):\n",
        "  if n==0:\n",
        "    rest=n\n",
        "  else:\n",
        "    if n>0:\n",
        "      rest=n+suma(n-1)\n",
        "  return rest\n",
        "print(suma(6))"
      ],
      "metadata": {
        "colab": {
          "base_uri": "https://localhost:8080/"
        },
        "id": "kPndehVBwhwZ",
        "outputId": "4b024afb-63d0-49f7-97a2-3e53101da288"
      },
      "execution_count": null,
      "outputs": [
        {
          "output_type": "stream",
          "name": "stdout",
          "text": [
            "21\n"
          ]
        }
      ]
    },
    {
      "cell_type": "markdown",
      "source": [
        "**Coeficientes binarios**"
      ],
      "metadata": {
        "id": "0SISPdmg5w21"
      }
    },
    {
      "cell_type": "code",
      "source": [
        "def coefbin(n,k):\n",
        "  if k>=0 and n>=0:\n",
        "    if (k==0 or k==n):\n",
        "      return 1                #el programa fue modificado validando los datos ingresados\n",
        "    elif k>n:\n",
        "      return 0\n",
        "    else:\n",
        "      return coefbin(n-1,k-1)+coefbin(n-1,k)\n",
        "  else:\n",
        "    return 0\n",
        "print(coefbin(-18,2))"
      ],
      "metadata": {
        "colab": {
          "base_uri": "https://localhost:8080/"
        },
        "id": "SWFAqpmu53hC",
        "outputId": "be1c671c-c934-4e6e-f399-fabfbc3ea816"
      },
      "execution_count": null,
      "outputs": [
        {
          "output_type": "stream",
          "name": "stdout",
          "text": [
            "0\n"
          ]
        }
      ]
    },
    {
      "cell_type": "markdown",
      "source": [
        " Podemos ver observar que  el programa no tendra errores en tiempo de ejecucion, esto siempre que el numero ingreasado de la variable k sea mayor que que la de valor ingresado de \"n\", caso contrario el programa tendra errores de sintaxis al ingresar un numero negativo.\n",
        "para solucionar, una de las maneras constaría en crear dos condicionales que validen si los numeros ingresados en las vriables antes mencionadas sean siempre positivos.\n",
        "\n",
        "\n"
      ],
      "metadata": {
        "id": "yaqyC4nCxQdB"
      }
    },
    {
      "cell_type": "markdown",
      "source": [
        "\n",
        "                                                       EJERCICIOS PROPUESTOS"
      ],
      "metadata": {
        "id": "x5NkM8d2l1Nw"
      }
    },
    {
      "cell_type": "markdown",
      "source": [
        "**Maximo comun divisor  de enteros positivos**"
      ],
      "metadata": {
        "id": "K7BxHbES6vQd"
      }
    },
    {
      "cell_type": "code",
      "source": [
        "def  MCD(M,N):\n",
        "  if N==0:\n",
        "    rest=M\n",
        "  else:\n",
        "    if N!=0:\n",
        "      rest=MCD(N,M%N)\n",
        "  return rest\n",
        "print(MCD(4,5))"
      ],
      "metadata": {
        "colab": {
          "base_uri": "https://localhost:8080/"
        },
        "id": "Zc7iZ5Bz7LpP",
        "outputId": "8be66a45-3267-4add-dd92-ff62a3f5bb3d"
      },
      "execution_count": null,
      "outputs": [
        {
          "output_type": "stream",
          "name": "stdout",
          "text": [
            "1\n"
          ]
        }
      ]
    },
    {
      "cell_type": "markdown",
      "source": [
        "**Numero positivo a binario**"
      ],
      "metadata": {
        "id": "LRnI3KkF72A0"
      }
    },
    {
      "cell_type": "code",
      "source": [
        "def binariaRecursivo(num):\n",
        "  if  num<1:\n",
        "       rest=0\n",
        "  else:\n",
        "     rest=num%2+binariaRecursivo(num//2)*10\n",
        "  return rest\n",
        "print(binariaRecursivo(145))"
      ],
      "metadata": {
        "colab": {
          "base_uri": "https://localhost:8080/"
        },
        "id": "vjrKkQ0g78Iz",
        "outputId": "8f9255e6-2ebd-4084-c217-a44ad1ac563a"
      },
      "execution_count": null,
      "outputs": [
        {
          "output_type": "stream",
          "name": "stdout",
          "text": [
            "10010001\n"
          ]
        }
      ]
    },
    {
      "cell_type": "markdown",
      "source": [
        "**Bianario a numeros entero**"
      ],
      "metadata": {
        "id": "5DxJGGLP8GfV"
      }
    },
    {
      "cell_type": "code",
      "source": [
        "def binariaRecursivo2(bi,exp):\n",
        "  decimal=bi%10\n",
        "  rest=0\n",
        "  if bi<=0:\n",
        "      rest= 0\n",
        "  else:\n",
        "    rest=rest+(decimal*int(pow(2,exp)))\n",
        "    rest+= binariaRecursivo2(bi//10,exp+1)\n",
        "  return rest\n",
        "print(binariaRecursivo2(10010001,0))\n",
        "\n",
        "\n"
      ],
      "metadata": {
        "colab": {
          "base_uri": "https://localhost:8080/"
        },
        "id": "8nR3XWHi8KsE",
        "outputId": "f1779c60-e486-46eb-bba7-2528fc1d8969"
      },
      "execution_count": null,
      "outputs": [
        {
          "output_type": "stream",
          "name": "stdout",
          "text": [
            "145\n"
          ]
        }
      ]
    },
    {
      "cell_type": "markdown",
      "source": [
        "**Palabra Palindrome**"
      ],
      "metadata": {
        "id": "nkBZW3__8L9b"
      }
    },
    {
      "cell_type": "code",
      "source": [
        "def palindrome(text,ind,leng):#ind ---> indice ; leng---> longitud de la\n",
        "  if leng<=2:\n",
        "    if text[ind]==text[leng]:\n",
        "      rest=True\n",
        "    else:                           # esta funcion recursiva nos devuelve 'True\n",
        "      rest=False                    #'en caso se palindrome caso contrario False\n",
        "  else:\n",
        "    if (text[ind]==text[leng]):\n",
        "      palindrome(text,ind+1,leng-1)\n",
        "      rest=True\n",
        "    else:\n",
        "      rest=False\n",
        "  return rest\n",
        "a=\"anita lava la tina\"\n",
        "l=len(a)-1\n",
        "print(palindrome(a,0,l))"
      ],
      "metadata": {
        "colab": {
          "base_uri": "https://localhost:8080/"
        },
        "id": "9dy5H57v8PEa",
        "outputId": "c834e18f-4155-44c4-927f-25cdcd558e02"
      },
      "execution_count": null,
      "outputs": [
        {
          "output_type": "stream",
          "name": "stdout",
          "text": [
            "True\n"
          ]
        }
      ]
    },
    {
      "cell_type": "markdown",
      "source": [],
      "metadata": {
        "id": "ndkoZKgcmlKk"
      }
    }
  ]
}