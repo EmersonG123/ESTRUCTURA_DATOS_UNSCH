{
  "nbformat": 4,
  "nbformat_minor": 0,
  "metadata": {
    "colab": {
      "provenance": [],
      "authorship_tag": "ABX9TyNWhYp7t/+h7aAU23KqEl5C",
      "include_colab_link": true
    },
    "kernelspec": {
      "name": "python3",
      "display_name": "Python 3"
    },
    "language_info": {
      "name": "python"
    }
  },
  "cells": [
    {
      "cell_type": "markdown",
      "metadata": {
        "id": "view-in-github",
        "colab_type": "text"
      },
      "source": [
        "<a href=\"https://colab.research.google.com/github/EmersonG123/ESTRUCTURA_DATOS_UNSCH/blob/main/laboratorio1.ipynb\" target=\"_parent\"><img src=\"https://colab.research.google.com/assets/colab-badge.svg\" alt=\"Open In Colab\"/></a>"
      ]
    },
    {
      "cell_type": "markdown",
      "source": [
        "# **ESTRUCTURA DE DATOS**\n",
        "#**LABORATORIO 1**"
      ],
      "metadata": {
        "id": "50T67DSH2zKS"
      }
    },
    {
      "cell_type": "code",
      "execution_count": null,
      "metadata": {
        "colab": {
          "base_uri": "https://localhost:8080/"
        },
        "id": "mx0i1F8spSIj",
        "outputId": "28a62535-3500-43c2-9d40-676ceca53384"
      },
      "outputs": [
        {
          "output_type": "stream",
          "name": "stdout",
          "text": [
            "¿como te llamasEmerson\n",
            "introduce un numero entero: 3\n",
            "Emerson\n",
            "Emerson\n",
            "Emerson\n",
            "\n"
          ]
        }
      ],
      "source": [
        "nombre=input(\"¿como te llamas\")\n",
        "n=input(\"introduce un numero entero: \")\n",
        "print((nombre+\"\\n\")*int(n))"
      ]
    },
    {
      "cell_type": "markdown",
      "source": [
        "ejercicio2"
      ],
      "metadata": {
        "id": "rMShlRQUqxhu"
      }
    },
    {
      "cell_type": "code",
      "source": [
        "nombre=input(\"¿como te llamas\")\n",
        "print(nombre.upper()+\" tiene \"+str(len(nombre))+\" letras\")"
      ],
      "metadata": {
        "colab": {
          "base_uri": "https://localhost:8080/"
        },
        "id": "IASlaFH6qvXo",
        "outputId": "9b49d5ee-ce62-4400-f960-36876a5e8413"
      },
      "execution_count": null,
      "outputs": [
        {
          "output_type": "stream",
          "name": "stdout",
          "text": [
            "¿como te llamas Emerson\n",
            " EMERSON tiene 8 letras\n"
          ]
        }
      ]
    },
    {
      "cell_type": "markdown",
      "source": [
        "ejercicio3\n"
      ],
      "metadata": {
        "id": "cZvrn7ods6ON"
      }
    },
    {
      "cell_type": "code",
      "source": [
        "name =input (\"¿como te llamas?\")\n",
        "print(name.lower())\n",
        "print(name.upper())\n",
        "print(name.title())"
      ],
      "metadata": {
        "colab": {
          "base_uri": "https://localhost:8080/"
        },
        "id": "0G3R9i0Xs8SV",
        "outputId": "73b6f6e8-6fac-4389-9914-747859f9d1b9"
      },
      "execution_count": null,
      "outputs": [
        {
          "output_type": "stream",
          "name": "stdout",
          "text": [
            "¿como te llamas?Emerson\n",
            "emerson\n",
            "EMERSON\n",
            "Emerson\n"
          ]
        }
      ]
    },
    {
      "cell_type": "markdown",
      "source": [
        "ejercico4"
      ],
      "metadata": {
        "id": "h6rwN-V-zEPN"
      }
    },
    {
      "cell_type": "code",
      "source": [
        "tel=\"66-93724710+11\"\n",
        "print(\"El numero de telefono es\", tel[3:-3])"
      ],
      "metadata": {
        "colab": {
          "base_uri": "https://localhost:8080/"
        },
        "id": "ZnxvSxj7wRiu",
        "outputId": "517307bf-e94e-4166-b78c-b42836549beb"
      },
      "execution_count": null,
      "outputs": [
        {
          "output_type": "stream",
          "name": "stdout",
          "text": [
            "El numero de telefono es 93724710\n"
          ]
        }
      ]
    },
    {
      "cell_type": "markdown",
      "source": [
        "ejercicio5"
      ],
      "metadata": {
        "id": "i-i1LxMyzGC0"
      }
    },
    {
      "cell_type": "code",
      "source": [
        "frase =input(\"Introduce una frase: \" )\n",
        "print(frase[::-1])\n"
      ],
      "metadata": {
        "colab": {
          "base_uri": "https://localhost:8080/"
        },
        "id": "DCTnEZMXwlht",
        "outputId": "382e43b3-f51c-4cd3-cba1-ef7f346072ee"
      },
      "execution_count": null,
      "outputs": [
        {
          "output_type": "stream",
          "name": "stdout",
          "text": [
            "Introduce una frase: hola\n",
            "aloh\n"
          ]
        }
      ]
    },
    {
      "cell_type": "markdown",
      "source": [
        "ejercicio 6"
      ],
      "metadata": {
        "id": "0fl3iDjYw6WX"
      }
    },
    {
      "cell_type": "code",
      "source": [
        "numerador=3+5\n",
        "denom=2*5\n",
        "respuesta=(numerador/denom)**2\n",
        "print(respuesta)"
      ],
      "metadata": {
        "colab": {
          "base_uri": "https://localhost:8080/"
        },
        "id": "acLqVDfXw8Tm",
        "outputId": "8136cc63-9707-4301-99df-2d906874a734"
      },
      "execution_count": null,
      "outputs": [
        {
          "output_type": "stream",
          "name": "stdout",
          "text": [
            "0.6400000000000001\n"
          ]
        }
      ]
    },
    {
      "cell_type": "markdown",
      "source": [
        "ejercicio 7\n"
      ],
      "metadata": {
        "id": "0UD0E011xuxv"
      }
    },
    {
      "cell_type": "code",
      "source": [
        "peso_payaso=112\n",
        "peso_muñeca=75\n",
        "payasos= int(input(\"introduce el numero de payasos a enviar\"))\n",
        "muñecas=int(input(\"introduce el numero de muñecas a enviar\"))\n",
        "pesototal=peso_payaso*payasos+peso_muñeca*muñecas\n",
        "print(\"el peso total del paquete es \"+str(pesototal))\n"
      ],
      "metadata": {
        "colab": {
          "base_uri": "https://localhost:8080/"
        },
        "id": "SFvFunyfxwuX",
        "outputId": "9dce0251-2417-48b7-edc9-68bdce7cad75"
      },
      "execution_count": null,
      "outputs": [
        {
          "output_type": "stream",
          "name": "stdout",
          "text": [
            "introduce el numero de payasos a enviar4\n",
            "introduce el numero de muñecas a enviar4\n",
            "el peso total del paquete es 748\n"
          ]
        }
      ]
    },
    {
      "cell_type": "markdown",
      "source": [
        "ejerc8\n"
      ],
      "metadata": {
        "id": "r7E5F2BNyh9Y"
      }
    },
    {
      "cell_type": "code",
      "source": [
        "import numpy as np\n",
        "x=np.array([1,2,3,4,5,1,2,1,1,1])\n",
        "print(\"original array\")\n",
        "print(x)\n",
        "print(\"Most frequent value in the above array: \")\n",
        "print(np.bincount(x).argmax())"
      ],
      "metadata": {
        "colab": {
          "base_uri": "https://localhost:8080/"
        },
        "id": "HWggGRNpykEd",
        "outputId": "08049ea6-d5e0-4473-a8f4-3d298a604262"
      },
      "execution_count": null,
      "outputs": [
        {
          "output_type": "stream",
          "name": "stdout",
          "text": [
            "original array\n",
            "[1 2 3 4 5 1 2 1 1 1]\n",
            "Most frequent value in the above array: \n",
            "1\n"
          ]
        }
      ]
    },
    {
      "cell_type": "markdown",
      "source": [
        "ejercicio 9"
      ],
      "metadata": {
        "id": "RklvXkZBzLBe"
      }
    },
    {
      "cell_type": "code",
      "source": [
        "import numpy as geek\n",
        "\n",
        "\n",
        "arr=[[0,1,2,3,0],[0,5,6,0,7]]\n",
        "gfg=geek.count_nonzero(arr)\n",
        "print(gfg)"
      ],
      "metadata": {
        "colab": {
          "base_uri": "https://localhost:8080/"
        },
        "id": "DRl0eNc2zM3P",
        "outputId": "4b2512b6-6682-4197-e78c-e7f9feeefbed"
      },
      "execution_count": null,
      "outputs": [
        {
          "output_type": "stream",
          "name": "stdout",
          "text": [
            "6\n"
          ]
        }
      ]
    },
    {
      "cell_type": "markdown",
      "source": [
        "ejercicio 10"
      ],
      "metadata": {
        "id": "OBfWnPRez461"
      }
    },
    {
      "cell_type": "code",
      "source": [
        "text_set=set(\"geEks\")\n",
        "for val in text_set:\n",
        "  print(val)"
      ],
      "metadata": {
        "colab": {
          "base_uri": "https://localhost:8080/"
        },
        "id": "gYm0La63z6mo",
        "outputId": "917cda89-20b0-4ddd-f028-21f792cbddfb"
      },
      "execution_count": null,
      "outputs": [
        {
          "output_type": "stream",
          "name": "stdout",
          "text": [
            "E\n",
            "g\n",
            "e\n",
            "k\n",
            "s\n"
          ]
        }
      ]
    },
    {
      "cell_type": "markdown",
      "source": [
        "ejercicio 11\n"
      ],
      "metadata": {
        "id": "rnD9soWw0N6l"
      }
    },
    {
      "cell_type": "code",
      "source": [
        "def func (n, cadena):\n",
        "  print(cadena)\n",
        "  if n==0:\n",
        "    return \"chao\"\n",
        "  return func(n-1,\"miguel\")\n",
        "func(3,\"miguel\")"
      ],
      "metadata": {
        "colab": {
          "base_uri": "https://localhost:8080/",
          "height": 105
        },
        "id": "x-3Cuxll0QKm",
        "outputId": "e53660da-a503-4f05-cc0c-de9dba591007"
      },
      "execution_count": null,
      "outputs": [
        {
          "output_type": "stream",
          "name": "stdout",
          "text": [
            "miguel\n",
            "miguel\n",
            "miguel\n",
            "miguel\n"
          ]
        },
        {
          "output_type": "execute_result",
          "data": {
            "text/plain": [
              "'chao'"
            ],
            "application/vnd.google.colaboratory.intrinsic+json": {
              "type": "string"
            }
          },
          "metadata": {},
          "execution_count": 24
        }
      ]
    }
  ]
}